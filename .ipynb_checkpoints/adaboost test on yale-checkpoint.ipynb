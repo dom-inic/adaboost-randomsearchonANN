{
 "cells": [
  {
   "cell_type": "code",
   "execution_count": 1,
   "id": "fc28aea1",
   "metadata": {},
   "outputs": [],
   "source": [
    "# testing adaboostclassifier on yale biometric dataset\n",
    "# testing to see how it performs as compared to how it performed on mnist dataset\n",
    "\n",
    "# importing libraries\n",
    "from sklearn.model_selection import train_test_split \n",
    "from sklearn.datasets import make_classification\n",
    "from sklearn.metrics import accuracy_score\n",
    "import numpy as np\n"
   ]
  },
  {
   "cell_type": "code",
   "execution_count": 2,
   "id": "0eea1884",
   "metadata": {},
   "outputs": [],
   "source": [
    "# loading the yale numpy array using numpy load func\n",
    "from numpy import load\n",
    "\n",
    "y = load('yaleExtB_target.npy')\n",
    "X = load('yaleExtB_data.npy')"
   ]
  },
  {
   "cell_type": "code",
   "execution_count": 3,
   "id": "49c5309c",
   "metadata": {},
   "outputs": [],
   "source": [
    "# splitting data into training set and test set\n",
    "X_train, X_test, y_train, y_test = train_test_split(X, y, test_size=0.2)"
   ]
  },
  {
   "cell_type": "code",
   "execution_count": 5,
   "id": "4c262123",
   "metadata": {},
   "outputs": [
    {
     "data": {
      "text/plain": [
       "PCA(n_components=1200, whiten=True)"
      ]
     },
     "execution_count": 5,
     "metadata": {},
     "output_type": "execute_result"
    }
   ],
   "source": [
    "# using PCA for feature extraction\n",
    "# PCA is a basic method used for image feature extraction.\n",
    "# Best results visualizing eigenfaces achieved when applied on 2D images.\n",
    "from sklearn.decomposition import PCA\n",
    "\n",
    "pca = PCA(n_components=1200, whiten=True)\n",
    "pca.fit(X_train)\n"
   ]
  },
  {
   "cell_type": "code",
   "execution_count": 8,
   "id": "b569b325",
   "metadata": {},
   "outputs": [],
   "source": [
    "# applying PCA to the train and test images to calculate principal components\n",
    "# using PCA transform method\n",
    "X_train_pca = pca.transform(X_train) \n",
    "X_test_pca = pca.transform(X_test)"
   ]
  },
  {
   "cell_type": "code",
   "execution_count": 10,
   "id": "b7c5b251",
   "metadata": {},
   "outputs": [
    {
     "name": "stdout",
     "output_type": "stream",
     "text": [
      "              precision    recall  f1-score   support\n",
      "\n",
      "         2.0       0.00      0.00      0.00         7\n",
      "         3.0       0.00      0.00      0.00        10\n",
      "         4.0       0.00      0.00      0.00         8\n",
      "         5.0       0.00      0.00      0.00         8\n",
      "         6.0       0.00      0.00      0.00        11\n",
      "         7.0       0.00      0.00      0.00        13\n",
      "         8.0       0.00      0.00      0.00        12\n",
      "         9.0       0.00      0.00      0.00        10\n",
      "        11.0       0.00      0.00      0.00        10\n",
      "        12.0       0.00      0.00      0.00         9\n",
      "        13.0       0.00      0.00      0.00        10\n",
      "        15.0       0.00      0.00      0.00        10\n",
      "        16.0       0.00      0.00      0.00         9\n",
      "        17.0       0.03      1.00      0.06         7\n",
      "        18.0       0.00      0.00      0.00         9\n",
      "        20.0       0.00      0.00      0.00        10\n",
      "        22.0       0.00      0.00      0.00        12\n",
      "        23.0       0.00      0.00      0.00        11\n",
      "        24.0       0.00      0.00      0.00        12\n",
      "        25.0       0.00      0.00      0.00        12\n",
      "        26.0       0.00      0.00      0.00        13\n",
      "        27.0       0.00      0.00      0.00        12\n",
      "        28.0       0.00      0.00      0.00         9\n",
      "        32.0       0.13      1.00      0.23         9\n",
      "        33.0       0.00      0.00      0.00        13\n",
      "        34.0       0.00      0.00      0.00         8\n",
      "        35.0       0.00      0.00      0.00        11\n",
      "        37.0       0.00      0.00      0.00         9\n",
      "        38.0       0.00      0.00      0.00         7\n",
      "        39.0       0.00      0.00      0.00         9\n",
      "\n",
      "    accuracy                           0.05       300\n",
      "   macro avg       0.01      0.07      0.01       300\n",
      "weighted avg       0.00      0.05      0.01       300\n",
      "\n"
     ]
    },
    {
     "name": "stderr",
     "output_type": "stream",
     "text": [
      "/home/dommy/.local/lib/python3.8/site-packages/sklearn/metrics/_classification.py:1245: UndefinedMetricWarning: Precision and F-score are ill-defined and being set to 0.0 in labels with no predicted samples. Use `zero_division` parameter to control this behavior.\n",
      "  _warn_prf(average, modifier, msg_start, len(result))\n",
      "/home/dommy/.local/lib/python3.8/site-packages/sklearn/metrics/_classification.py:1245: UndefinedMetricWarning: Precision and F-score are ill-defined and being set to 0.0 in labels with no predicted samples. Use `zero_division` parameter to control this behavior.\n",
      "  _warn_prf(average, modifier, msg_start, len(result))\n",
      "/home/dommy/.local/lib/python3.8/site-packages/sklearn/metrics/_classification.py:1245: UndefinedMetricWarning: Precision and F-score are ill-defined and being set to 0.0 in labels with no predicted samples. Use `zero_division` parameter to control this behavior.\n",
      "  _warn_prf(average, modifier, msg_start, len(result))\n"
     ]
    }
   ],
   "source": [
    "from sklearn.tree import DecisionTreeClassifier\n",
    "dt_clf= DecisionTreeClassifier(max_depth=1)\n",
    "dt_clf.fit(X_train_pca, y_train)\n",
    "y_pred = dt_clf.predict(X_test_pca)\n",
    "from sklearn.metrics import classification_report\n",
    "print(classification_report(y_test, y_pred))"
   ]
  },
  {
   "cell_type": "code",
   "execution_count": 11,
   "id": "6044f5cb",
   "metadata": {},
   "outputs": [],
   "source": [
    "# training a neural net\n",
    "from sklearn.ensemble import AdaBoostClassifier\n",
    "from sklearn.tree import DecisionTreeClassifier\n",
    "\n",
    "adaboost_clf = AdaBoostClassifier(\n",
    "    DecisionTreeClassifier(max_depth=1), n_estimators=5000,\n",
    "    algorithm=\"SAMME.R\", learning_rate=0.2, random_state=42,)"
   ]
  },
  {
   "cell_type": "code",
   "execution_count": 12,
   "id": "0d06a5d9",
   "metadata": {},
   "outputs": [],
   "source": [
    "# fitting the data to the NN\n",
    "search = adaboost_clf.fit(X_train_pca, y_train)"
   ]
  },
  {
   "cell_type": "code",
   "execution_count": 13,
   "id": "3e9990be",
   "metadata": {},
   "outputs": [],
   "source": [
    "# predictions\n",
    "y_pred = adaboost_clf.predict(X_test_pca)"
   ]
  },
  {
   "cell_type": "code",
   "execution_count": 14,
   "id": "7955d4b7",
   "metadata": {},
   "outputs": [
    {
     "name": "stdout",
     "output_type": "stream",
     "text": [
      "              precision    recall  f1-score   support\n",
      "\n",
      "         2.0       0.75      0.43      0.55         7\n",
      "         3.0       0.50      0.60      0.55        10\n",
      "         4.0       0.37      0.88      0.52         8\n",
      "         5.0       1.00      0.75      0.86         8\n",
      "         6.0       1.00      0.45      0.62        11\n",
      "         7.0       0.78      0.54      0.64        13\n",
      "         8.0       0.52      1.00      0.69        12\n",
      "         9.0       1.00      0.70      0.82        10\n",
      "        11.0       0.71      0.50      0.59        10\n",
      "        12.0       0.70      0.78      0.74         9\n",
      "        13.0       1.00      0.30      0.46        10\n",
      "        15.0       1.00      0.80      0.89        10\n",
      "        16.0       1.00      0.33      0.50         9\n",
      "        17.0       0.71      0.71      0.71         7\n",
      "        18.0       0.57      0.44      0.50         9\n",
      "        20.0       0.31      0.90      0.46        10\n",
      "        22.0       1.00      0.33      0.50        12\n",
      "        23.0       0.86      0.55      0.67        11\n",
      "        24.0       0.86      0.50      0.63        12\n",
      "        25.0       0.50      0.50      0.50        12\n",
      "        26.0       1.00      0.77      0.87        13\n",
      "        27.0       0.89      0.67      0.76        12\n",
      "        28.0       0.88      0.78      0.82         9\n",
      "        32.0       0.78      0.78      0.78         9\n",
      "        33.0       0.79      0.85      0.81        13\n",
      "        34.0       1.00      0.75      0.86         8\n",
      "        35.0       0.56      0.91      0.69        11\n",
      "        37.0       0.57      0.89      0.70         9\n",
      "        38.0       0.44      1.00      0.61         7\n",
      "        39.0       0.86      0.67      0.75         9\n",
      "\n",
      "    accuracy                           0.66       300\n",
      "   macro avg       0.76      0.67      0.67       300\n",
      "weighted avg       0.77      0.66      0.67       300\n",
      "\n"
     ]
    }
   ],
   "source": [
    "# recognition accuracy\n",
    "from sklearn.metrics import classification_report\n",
    "print(classification_report(y_test, y_pred))\n"
   ]
  },
  {
   "cell_type": "code",
   "execution_count": 15,
   "id": "fba5be78",
   "metadata": {},
   "outputs": [
    {
     "data": {
      "text/plain": [
       "SGDClassifier(random_state=42)"
      ]
     },
     "execution_count": 15,
     "metadata": {},
     "output_type": "execute_result"
    }
   ],
   "source": [
    "# using a different classifier to try and improve accuracy\n",
    "# using SGDClassifier\n",
    "from sklearn.linear_model import SGDClassifier\n",
    "sgd_clf = SGDClassifier(random_state=42)\n",
    "sgd_clf.fit(X_train_pca, y_train)"
   ]
  },
  {
   "cell_type": "code",
   "execution_count": 16,
   "id": "06acf46d",
   "metadata": {},
   "outputs": [
    {
     "data": {
      "text/plain": [
       "1.0"
      ]
     },
     "execution_count": 16,
     "metadata": {},
     "output_type": "execute_result"
    }
   ],
   "source": [
    "# prediction and scores\n",
    "sgd_clf.predict(X_test_pca)\n",
    "sgd_clf.score(X_train_pca, y_train)"
   ]
  },
  {
   "cell_type": "code",
   "execution_count": 17,
   "id": "654d9d94",
   "metadata": {},
   "outputs": [],
   "source": [
    "# that seems like a good accuracy\n",
    "# lets now use adaboost to optimise the parameters\n",
    "\n",
    "adaboost_clf = AdaBoostClassifier(\n",
    "    sgd_clf, n_estimators=100,\n",
    "    algorithm=\"SAMME\", learning_rate=0.2, random_state=42,)"
   ]
  },
  {
   "cell_type": "code",
   "execution_count": 18,
   "id": "2424db44",
   "metadata": {},
   "outputs": [
    {
     "data": {
      "text/plain": [
       "AdaBoostClassifier(algorithm='SAMME',\n",
       "                   base_estimator=SGDClassifier(random_state=42),\n",
       "                   learning_rate=0.2, n_estimators=100, random_state=42)"
      ]
     },
     "execution_count": 18,
     "metadata": {},
     "output_type": "execute_result"
    }
   ],
   "source": [
    "adaboost_clf.fit(X_train_pca, y_train)"
   ]
  },
  {
   "cell_type": "code",
   "execution_count": 20,
   "id": "aedadaa2",
   "metadata": {},
   "outputs": [],
   "source": [
    "y_pred = adaboost_clf.predict(X_test_pca)"
   ]
  },
  {
   "cell_type": "code",
   "execution_count": 24,
   "id": "a8a602e4",
   "metadata": {},
   "outputs": [
    {
     "data": {
      "text/plain": [
       "1.0"
      ]
     },
     "execution_count": 24,
     "metadata": {},
     "output_type": "execute_result"
    }
   ],
   "source": [
    "adaboost_clf.score(X_train_pca,y_train)"
   ]
  },
  {
   "cell_type": "code",
   "execution_count": 25,
   "id": "3aecb9be",
   "metadata": {},
   "outputs": [
    {
     "name": "stderr",
     "output_type": "stream",
     "text": [
      "/home/dommy/.local/lib/python3.8/site-packages/sklearn/model_selection/_search.py:285: UserWarning: The total space of parameters 4 is smaller than n_iter=500. Running 4 iterations. For exhaustive searches, use GridSearchCV.\n",
      "  warnings.warn(\n"
     ]
    },
    {
     "name": "stdout",
     "output_type": "stream",
     "text": [
      "Best Score: 0.35944444444444446\n",
      "Best Hyperparameters: {'penalty': 'l1'}\n"
     ]
    }
   ],
   "source": [
    "# from the above output we can see that the NN has improved \n",
    "# using adaboost classifier the accuracy has greatly improved \n",
    "# lets now use Random search to find the best hyperparameters\n",
    "\n",
    "from sklearn.model_selection import RandomizedSearchCV\n",
    "from sklearn.model_selection import RepeatedStratifiedKFold\n",
    "from scipy.stats import uniform\n",
    "from scipy.stats import loguniform\n",
    "\n",
    "distributions = dict(C=uniform(loc=0, scale=4),penalty=['l2', 'l1'])\n",
    "\n",
    "# define search space\n",
    "space = dict()\n",
    "# space['solver'] = ['newton-cg', 'lbfgs', 'liblinear']\n",
    "space['penalty'] = ['none', 'l1', 'l2', 'elasticnet']\n",
    "# space['C'] = loguniform(1e-5, 100)\n",
    "# define evaluation\n",
    "cv = RepeatedStratifiedKFold(n_splits=10, n_repeats=3, random_state=1)\n",
    "clf = RandomizedSearchCV(sgd_clf, space,n_iter=500,scoring='accuracy',n_jobs=-1,cv=cv, random_state=0)\n",
    "search = clf.fit(X_train_pca, y_train)\n",
    "# summarize result\n",
    "print('Best Score: %s' % search.best_score_)\n",
    "print('Best Hyperparameters: %s' % search.best_params_)"
   ]
  },
  {
   "cell_type": "code",
   "execution_count": null,
   "id": "61fd1659",
   "metadata": {},
   "outputs": [],
   "source": []
  }
 ],
 "metadata": {
  "kernelspec": {
   "display_name": "Python 3",
   "language": "python",
   "name": "python3"
  },
  "language_info": {
   "codemirror_mode": {
    "name": "ipython",
    "version": 3
   },
   "file_extension": ".py",
   "mimetype": "text/x-python",
   "name": "python",
   "nbconvert_exporter": "python",
   "pygments_lexer": "ipython3",
   "version": "3.8.5"
  }
 },
 "nbformat": 4,
 "nbformat_minor": 5
}
